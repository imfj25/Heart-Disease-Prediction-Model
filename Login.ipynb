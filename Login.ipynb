{
 "cells": [
  {
   "cell_type": "code",
   "execution_count": 4,
   "id": "c0007d57",
   "metadata": {},
   "outputs": [
    {
     "ename": "ModuleNotFoundError",
     "evalue": "No module named 'mysql'",
     "output_type": "error",
     "traceback": [
      "\u001b[1;31m---------------------------------------------------------------------------\u001b[0m",
      "\u001b[1;31mModuleNotFoundError\u001b[0m                       Traceback (most recent call last)",
      "\u001b[1;32m~\\AppData\\Local\\Temp\\ipykernel_27256\\374833273.py\u001b[0m in \u001b[0;36m<module>\u001b[1;34m\u001b[0m\n\u001b[1;32m----> 1\u001b[1;33m \u001b[1;32mimport\u001b[0m \u001b[0mmysql\u001b[0m\u001b[1;33m.\u001b[0m\u001b[0mconnector\u001b[0m\u001b[1;33m\u001b[0m\u001b[1;33m\u001b[0m\u001b[0m\n\u001b[0m\u001b[0;32m      2\u001b[0m \u001b[1;32mfrom\u001b[0m \u001b[0mtkinter\u001b[0m \u001b[1;32mimport\u001b[0m\u001b[1;33m*\u001b[0m\u001b[1;33m\u001b[0m\u001b[1;33m\u001b[0m\u001b[0m\n\u001b[0;32m      3\u001b[0m \u001b[1;31m#from PIL import ImageTk\u001b[0m\u001b[1;33m\u001b[0m\u001b[1;33m\u001b[0m\u001b[0m\n\u001b[0;32m      4\u001b[0m \u001b[1;32mfrom\u001b[0m \u001b[0mtkinter\u001b[0m \u001b[1;32mimport\u001b[0m \u001b[0mmessagebox\u001b[0m\u001b[1;33m\u001b[0m\u001b[1;33m\u001b[0m\u001b[0m\n\u001b[0;32m      5\u001b[0m \u001b[1;33m\u001b[0m\u001b[0m\n",
      "\u001b[1;31mModuleNotFoundError\u001b[0m: No module named 'mysql'"
     ]
    }
   ],
   "source": [
    "import mysql.connector\n",
    "from tkinter import*\n",
    "#from PIL import ImageTk \n",
    "from tkinter import messagebox\n",
    "\n",
    "class Login:\n",
    "    def __init__(self,master):\n",
    "        self.master= master\n",
    "        self.master.title(\"Heart Desease Prediction\")\n",
    "        master.geometry('1200x600')\n",
    "        master.iconbitmap('heartIcon.ico')\n",
    "        master_width = 1200\n",
    "        master_height= 650\n",
    "        master.geometry(f\"{master_width}x{master_height}+{30}+{0}\")\n",
    "\n",
    "        #--------------Image---------------\n",
    "        #self.bg=ImageTk.PhotoImage(file=\"Images/25531.jpg\")\n",
    "        #self.bg=PhotoImage(file=\"Images\\heart1.png\")\n",
    "        #self.bg_image=Label(self.master,image=self.bg).place(x=0,y=0,relwidth=1,relheight=10)\n",
    "\n",
    "\n",
    "        #---------------Login-----------------\n",
    "        Frame_login=Frame(self.master,bg=\"white\").place(x=150,y=150,height=340,width=500)\n",
    "\n",
    "        title = Label(Frame_login,text=\"Login Here\",font=(\"Impact\",35,\"bold\"),fg=\"#d77337\",bg=\"white\").place(x=160,y=160)\n",
    "        lbl_user = Label(Frame_login,text=\"User Name\",font=(\"times new roman\",15),fg=\"black\",bg=\"white\").place(x=165,y=280)\n",
    "        self.txt_user=Entry(Frame_login,font=(\"times new roman\",15,\"bold\"),bg=\"lightgray\")\n",
    "        self.txt_user.place(x=280,y=280,width=350,height=35)\n",
    "\n",
    "        #----------------Password----------------\n",
    "        lbl_pass = Label(Frame_login,text=\"Password\",font=(\"times new roman\",15),fg=\"black\",bg=\"white\").place(x=165,y=340)\n",
    "        self.txt_pass=Entry(Frame_login,font=(\"times new roman\",15,\"bold\"),bg=\"lightgray\",show=\"*\")\n",
    "        self.txt_pass.place(x=280,y=340,width=350,height=35)\n",
    "\n",
    "        #--------------Forgot Password Button-----------\n",
    "        forget_btn=Button(Frame_login,text=\"Forget Password?\",cursor=\"hand2\",bg=\"white\",fg=\"#d77337\",bd=0,font=(\"times new roman\",12)).place(x=162,y=390)\n",
    "\n",
    "        #-----------------Login Button-------------------\n",
    "        Login_btn=Button(self.master,command=self.login_fun,cursor=\"hand2\",text=\"Login\",fg=\"white\",bg=\"#d77337\",font=(\"times new roman\",20)).place(x=330,y=450)\n",
    "    \n",
    "    def login_fun(self):\n",
    "        \n",
    "        if self.txt_pass.get()==\"\" or self.txt_user.get()==\"\":\n",
    "            messagebox.showerror(\"Error\",\"All fields are required\",parent=self.master)\n",
    "\n",
    "        elif self.txt_user.get()!= \"Suraj\" :\n",
    "            messagebox.showerror(\"Error\",\"Invalid Username\",parent=self.master)\n",
    "        if self.txt_pass.get()!=\"123456\":\n",
    "            messagebox.showerror(\"Error\",\"Invalid Password\",parent=self.master)\n",
    "         \n",
    "        else:\n",
    "            messagebox.showinfo(\"Welcome\",f\"Welcome{self.txt_user.get()}\",parent=self.master)\n",
    "\n",
    "    \n",
    "\n",
    "       \n",
    "    \n",
    "master = Tk()\n",
    "obj=Login(master)\n",
    "master.mainloop()"
   ]
  },
  {
   "cell_type": "code",
   "execution_count": null,
   "id": "94a7005f",
   "metadata": {},
   "outputs": [],
   "source": []
  }
 ],
 "metadata": {
  "kernelspec": {
   "display_name": "Python 3 (ipykernel)",
   "language": "python",
   "name": "python3"
  },
  "language_info": {
   "codemirror_mode": {
    "name": "ipython",
    "version": 3
   },
   "file_extension": ".py",
   "mimetype": "text/x-python",
   "name": "python",
   "nbconvert_exporter": "python",
   "pygments_lexer": "ipython3",
   "version": "3.9.13"
  }
 },
 "nbformat": 4,
 "nbformat_minor": 5
}
